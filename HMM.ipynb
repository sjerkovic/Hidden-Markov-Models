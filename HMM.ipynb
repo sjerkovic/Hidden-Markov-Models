{
 "cells": [
  {
   "cell_type": "markdown",
   "metadata": {},
   "source": [
    "# Profile HMMs for Sequence Alignment"
   ]
  },
  {
   "cell_type": "markdown",
   "metadata": {},
   "source": [
    "## 1. Probability of a Hidden Path Problem: Compute the probability of a hidden path."
   ]
  },
  {
   "cell_type": "markdown",
   "metadata": {},
   "source": [
    "Input: A hidden path π followed by the states States and transition matrix Transition of an HMM (Σ, States, Transition, Emission).\n",
    "\n",
    "Output: The probability of this path, Pr(π).\n",
    "\n",
    "Note: You may assume that transitions from the initial state occur with equal probability."
   ]
  },
  {
   "cell_type": "code",
   "execution_count": 1,
   "metadata": {},
   "outputs": [],
   "source": [
    "import numpy as np\n",
    "import pandas as pd\n",
    "import re"
   ]
  },
  {
   "cell_type": "code",
   "execution_count": 2,
   "metadata": {},
   "outputs": [],
   "source": [
    "def hpp(text):\n",
    "    text = text.split('--------')\n",
    "    string = text[0][:-1]\n",
    "    \n",
    "    matrix = pd.DataFrame(index=text[1][1:-1].split(' '),\n",
    "                          columns=text[1][1:-1].split(' '),\n",
    "                          data=np.array([float(x) for x in re.findall(\"\\d+\\.\\d+\", text[2])]).reshape((2,2)))\n",
    "    prob = 0.5\n",
    "    for i in range(len(string)-1):\n",
    "        prob*=matrix[string[i]][string[i+1]]\n",
    "    return prob"
   ]
  },
  {
   "cell_type": "code",
   "execution_count": 3,
   "metadata": {},
   "outputs": [],
   "source": [
    "text = '''ABABBBAAAA\n",
    "--------\n",
    "A B\n",
    "--------\n",
    "\tA\tB\n",
    "A\t0.377\t0.623\n",
    "B\t0.26\t0.74'''"
   ]
  },
  {
   "cell_type": "code",
   "execution_count": 4,
   "metadata": {},
   "outputs": [
    {
     "data": {
      "text/plain": [
       "0.0003849286917546759"
      ]
     },
     "execution_count": 4,
     "metadata": {},
     "output_type": "execute_result"
    }
   ],
   "source": [
    "hpp(text)"
   ]
  },
  {
   "cell_type": "markdown",
   "metadata": {},
   "source": [
    "## 2. Probability of an Outcome Given a Hidden Path Problem: Compute the probability that an HMM will emit a string given its hidden path."
   ]
  },
  {
   "cell_type": "markdown",
   "metadata": {},
   "source": [
    "Input: A string x, followed by the alphabet from which x was constructed, followed by a hidden path π, followed by the states States and emission matrix Emission of an HMM (Σ, States, Transition, Emission).\n",
    "\n",
    "Output: The conditional probability Pr(x|π) that x will be emitted given that the HMM follows the hidden path π.\n",
    "\n",
    "Note: You may assume that transitions from the initial state occur with equal probability."
   ]
  },
  {
   "cell_type": "code",
   "execution_count": 5,
   "metadata": {},
   "outputs": [],
   "source": [
    "def poghpp(text):\n",
    "    text = text.split('--------')\n",
    "    string = text[0][:-1]\n",
    "    matrix = pd.DataFrame(index=text[3][1:-1].split(' '),\n",
    "                          columns=text[1][1:-1].split(' '),\n",
    "                          data=np.array([float(x) for x in re.findall(\"\\d+\\.\\d+\", text[4])]).reshape((2,3)))\n",
    "    hidden_path = text[2][1:-1]\n",
    "    probability = 1\n",
    "    for i in range(len(string)):\n",
    "        probability*=matrix[string[i]][hidden_path[i]]\n",
    "        \n",
    "    return probability"
   ]
  },
  {
   "cell_type": "code",
   "execution_count": 6,
   "metadata": {},
   "outputs": [],
   "source": [
    "text = '''zzzyxyyzzx\n",
    "--------\n",
    "x y z\n",
    "--------\n",
    "BAAAAAAAAA\n",
    "--------\n",
    "A B\n",
    "--------\n",
    "\tx\ty\tz\n",
    "A\t0.176\t0.596\t0.228\n",
    "B\t0.225\t0.572\t0.203'''"
   ]
  },
  {
   "cell_type": "code",
   "execution_count": 7,
   "metadata": {
    "scrolled": true
   },
   "outputs": [
    {
     "data": {
      "text/plain": [
       "3.5974895474624624e-06"
      ]
     },
     "execution_count": 7,
     "metadata": {},
     "output_type": "execute_result"
    }
   ],
   "source": [
    "poghpp(text)"
   ]
  },
  {
   "cell_type": "markdown",
   "metadata": {},
   "source": [
    "## 3. Implement the Viterbi algorithm solving the Decoding Problem."
   ]
  },
  {
   "cell_type": "markdown",
   "metadata": {},
   "source": [
    "Input: A string x, followed by the alphabet from which x was constructed, followed by the states States, transition matrix Transition, and emission matrix Emission of an HMM (Σ, States, Transition, Emission).\n",
    "\n",
    "Output: A path that maximizes the (unconditional) probability Pr(x, π) over all possible paths π.\n",
    "\n",
    "Note: You may assume that transitions from the initial state occur with equal probability."
   ]
  },
  {
   "cell_type": "code",
   "execution_count": 8,
   "metadata": {},
   "outputs": [],
   "source": [
    "def viterbi(text):\n",
    "    text = text.split('--------')\n",
    "    string = text[0][:-1]\n",
    "    transition = pd.DataFrame(index=text[2][1:-1].split(' '),\n",
    "                          columns=text[2][1:-1].split(' '),\n",
    "                          data=np.array([float(x) for x in re.findall(\"\\d+\\.\\d+\", text[3])]).reshape((2,2)))\n",
    "    emission = pd.DataFrame(index=text[2][1:-1].split(' '),\n",
    "                          columns=text[1][1:-1].split(' '),\n",
    "                          data=np.array([float(x) for x in re.findall(\"\\d+\\.\\d+\", text[4])]).reshape((2,3)))\n",
    "    path = []\n",
    "    current = None\n",
    "    for i in range(len(string)):\n",
    "        if i==0:\n",
    "            current = emission[string[0]].idxmax()\n",
    "            path.append(current)\n",
    "        else:\n",
    "            current = (transition[current]*emission[string[i]]).idxmax()\n",
    "            path.append(current)\n",
    "    return path"
   ]
  },
  {
   "cell_type": "code",
   "execution_count": 9,
   "metadata": {},
   "outputs": [],
   "source": [
    "text = '''xyxzzxyxyy\n",
    "--------\n",
    "x y z\n",
    "--------\n",
    "A B\n",
    "--------\n",
    "\tA\tB\n",
    "A\t0.641\t0.359\n",
    "B\t0.729\t0.271\n",
    "--------\n",
    "\tx\ty\tz\n",
    "A\t0.117\t0.691\t0.192\t\n",
    "B\t0.097\t0.42\t0.483'''"
   ]
  },
  {
   "cell_type": "code",
   "execution_count": 10,
   "metadata": {},
   "outputs": [],
   "source": [
    "s=viterbi(text)"
   ]
  },
  {
   "cell_type": "code",
   "execution_count": 11,
   "metadata": {
    "scrolled": false
   },
   "outputs": [
    {
     "data": {
      "text/plain": [
       "'AAABBAAAAA'"
      ]
     },
     "execution_count": 11,
     "metadata": {},
     "output_type": "execute_result"
    }
   ],
   "source": [
    "''.join(s)"
   ]
  },
  {
   "cell_type": "markdown",
   "metadata": {},
   "source": [
    "## 4. Solve the Outcome Likelihood Problem."
   ]
  },
  {
   "cell_type": "markdown",
   "metadata": {},
   "source": [
    "Input: A string x, followed by the alphabet from which x was constructed, followed by the states States, transition matrix Transition, and emission matrix Emission of an HMM (Σ, States, Transition, Emission).\n",
    "\n",
    "Output: The probability Pr(x) that the HMM emits x.\n",
    "\n",
    "Note: You may assume that transitions from the initial state occur with equal probability."
   ]
  },
  {
   "cell_type": "code",
   "execution_count": 15,
   "metadata": {},
   "outputs": [],
   "source": [
    "def outcome_probability(text):\n",
    "    text = text.split('--------')\n",
    "    string = text[0][:-1]\n",
    "    states = text[2][1:-1].split(' ')\n",
    "    transition = pd.DataFrame(index=text[2][1:-1].split(' '),\n",
    "                          columns=text[2][1:-1].split(' '),\n",
    "                          data=np.array([float(x) for x in re.findall(\"\\d+\\.\\d+\", text[3])]).reshape((2,2)))\n",
    "    emission = pd.DataFrame(index=text[2][1:-1].split(' '),\n",
    "                          columns=text[1][1:-1].split(' '),\n",
    "                          data=np.array([float(x) for x in re.findall(\"\\d+\\.\\d+\", text[4])]).reshape((2,3)))\n",
    "    dic = {}\n",
    "    dic[0] = {}\n",
    "    for i in states:\n",
    "        dic[0][i] = {}\n",
    "        dic[0][i] = 1.0/len(states)*emission[string[0]][i]\n",
    "        \n",
    "    for i in range(1,len(string)):\n",
    "        dic[i] = {}\n",
    "        for j in states:\n",
    "            dic[i][j] = 0\n",
    "            for k in states:\n",
    "                dic[i][j]+=dic[i-1][k]*transition[j][k]*emission[string[i]][j]\n",
    "    res = 0\n",
    "    for i in states:\n",
    "        res+=dic[len(string)-1][i]\n",
    "    return res"
   ]
  },
  {
   "cell_type": "code",
   "execution_count": 16,
   "metadata": {},
   "outputs": [],
   "source": [
    "text = '''xzyyzzyzyy\n",
    "--------\n",
    "x y z\n",
    "--------\n",
    "A B\n",
    "--------\n",
    "\tA\tB\n",
    "A\t0.303\t0.697 \n",
    "B\t0.831\t0.169 \n",
    "--------\n",
    "\tx\ty\tz\n",
    "A\t0.533\t0.065\t0.402 \n",
    "B\t0.342\t0.334\t0.324'''"
   ]
  },
  {
   "cell_type": "code",
   "execution_count": 17,
   "metadata": {},
   "outputs": [
    {
     "data": {
      "text/plain": [
       "1.1005510319694851e-06"
      ]
     },
     "execution_count": 17,
     "metadata": {},
     "output_type": "execute_result"
    }
   ],
   "source": [
    "outcome_probability(text)"
   ]
  }
 ],
 "metadata": {
  "kernelspec": {
   "display_name": "Python 3",
   "language": "python",
   "name": "python3"
  },
  "language_info": {
   "codemirror_mode": {
    "name": "ipython",
    "version": 3
   },
   "file_extension": ".py",
   "mimetype": "text/x-python",
   "name": "python",
   "nbconvert_exporter": "python",
   "pygments_lexer": "ipython3",
   "version": "3.7.1"
  }
 },
 "nbformat": 4,
 "nbformat_minor": 2
}
